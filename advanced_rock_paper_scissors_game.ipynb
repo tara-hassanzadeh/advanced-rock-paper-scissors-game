{
  "nbformat": 4,
  "nbformat_minor": 0,
  "metadata": {
    "colab": {
      "provenance": [],
      "authorship_tag": "ABX9TyN/5+mMjNCZ0Is46tRFqzqj",
      "include_colab_link": true
    },
    "kernelspec": {
      "name": "python3",
      "display_name": "Python 3"
    },
    "language_info": {
      "name": "python"
    }
  },
  "cells": [
    {
      "cell_type": "markdown",
      "metadata": {
        "id": "view-in-github",
        "colab_type": "text"
      },
      "source": [
        "<a href=\"https://colab.research.google.com/github/tara-hassanzadeh/advanced-rock-paper-scissors-game/blob/main/advanced_rock_paper_scissors_game.ipynb\" target=\"_parent\"><img src=\"https://colab.research.google.com/assets/colab-badge.svg\" alt=\"Open In Colab\"/></a>"
      ]
    },
    {
      "cell_type": "markdown",
      "source": [
        "Advanced rock paper scissors game"
      ],
      "metadata": {
        "id": "HDNE4SMmnuX1"
      }
    },
    {
      "cell_type": "code",
      "execution_count": 1,
      "metadata": {
        "colab": {
          "base_uri": "https://localhost:8080/"
        },
        "id": "7_NSKD5unsmj",
        "outputId": "55442156-64e7-46ad-e17a-6ad13446d6ef"
      },
      "outputs": [
        {
          "output_type": "stream",
          "name": "stdout",
          "text": [
            "🎮 Welcome to Rock, Paper, Scissors!\n",
            "Type 'exit' or 'quit' to end the game.\n",
            "\n",
            "--- Round 1 ---\n",
            "Choose (rock, paper, scissors or exit): rock\n",
            "Computer chose: rock\n",
            "🤝 It's a draw!\n",
            "Score - You: 0 | Computer: 0\n",
            "\n",
            "--- Round 2 ---\n",
            "Choose (rock, paper, scissors or exit): paper\n",
            "Computer chose: rock\n",
            "🎉 You win this round!\n",
            "Score - You: 1 | Computer: 0\n",
            "\n",
            "--- Round 3 ---\n",
            "Choose (rock, paper, scissors or exit): rock\n",
            "Computer chose: rock\n",
            "🤝 It's a draw!\n",
            "Score - You: 1 | Computer: 0\n",
            "\n",
            "--- Round 4 ---\n",
            "Choose (rock, paper, scissors or exit): scissors\n",
            "Computer chose: scissors\n",
            "🤝 It's a draw!\n",
            "Score - You: 1 | Computer: 0\n",
            "\n",
            "--- Round 5 ---\n",
            "Choose (rock, paper, scissors or exit): paper\n",
            "Computer chose: scissors\n",
            "💻 Computer wins this round!\n",
            "Score - You: 1 | Computer: 1\n",
            "\n",
            "--- Round 6 ---\n",
            "Choose (rock, paper, scissors or exit): rock\n",
            "Computer chose: rock\n",
            "🤝 It's a draw!\n",
            "Score - You: 1 | Computer: 1\n",
            "\n",
            "--- Round 7 ---\n",
            "Choose (rock, paper, scissors or exit): paper\n",
            "Computer chose: paper\n",
            "🤝 It's a draw!\n",
            "Score - You: 1 | Computer: 1\n",
            "\n",
            "--- Round 8 ---\n",
            "Choose (rock, paper, scissors or exit): paper\n",
            "Computer chose: rock\n",
            "🎉 You win this round!\n",
            "Score - You: 2 | Computer: 1\n",
            "\n",
            "--- Round 9 ---\n",
            "Choose (rock, paper, scissors or exit): exit\n",
            "\n",
            "🏁 Game Over!\n",
            "Final Score - You: 2 | Computer: 1\n",
            "👏 Congratulations! You won the game.\n"
          ]
        }
      ],
      "source": [
        "import random\n",
        "\n",
        "def get_user_choice(options):\n",
        "    user_input = input(\"Choose (rock, paper, scissors or exit): \").strip().lower()\n",
        "    if user_input in ['exit', 'quit']:\n",
        "        return \"exit\"\n",
        "    if user_input not in options:\n",
        "        print(\"Invalid input! Please choose from rock, paper, or scissors.\")\n",
        "        return None\n",
        "    return user_input\n",
        "\n",
        "def get_computer_choice(options):\n",
        "    return random.choice(options)\n",
        "\n",
        "def determine_winner(player, computer):\n",
        "    if player == computer:\n",
        "        return \"draw\"\n",
        "    elif (player == \"rock\" and computer == \"scissors\") or \\\n",
        "         (player == \"paper\" and computer == \"rock\") or \\\n",
        "         (player == \"scissors\" and computer == \"paper\"):\n",
        "        return \"player\"\n",
        "    else:\n",
        "        return \"computer\"\n",
        "\n",
        "def main():\n",
        "    options = [\"rock\", \"paper\", \"scissors\"]\n",
        "    player_score = 0\n",
        "    computer_score = 0\n",
        "    round_number = 1\n",
        "\n",
        "    print(\"🎮 Welcome to Rock, Paper, Scissors!\")\n",
        "    print(\"Type 'exit' or 'quit' to end the game.\\n\")\n",
        "\n",
        "    while True:\n",
        "        print(f\"--- Round {round_number} ---\")\n",
        "        player = get_user_choice(options)\n",
        "        if player == \"exit\":\n",
        "            break\n",
        "        if player is None:\n",
        "            continue\n",
        "\n",
        "        computer = get_computer_choice(options)\n",
        "        print(f\"Computer chose: {computer}\")\n",
        "\n",
        "        result = determine_winner(player, computer)\n",
        "\n",
        "        if result == \"draw\":\n",
        "            print(\"🤝 It's a draw!\")\n",
        "        elif result == \"player\":\n",
        "            print(\"🎉 You win this round!\")\n",
        "            player_score += 1\n",
        "        else:\n",
        "            print(\"💻 Computer wins this round!\")\n",
        "            computer_score += 1\n",
        "\n",
        "        print(f\"Score - You: {player_score} | Computer: {computer_score}\\n\")\n",
        "        round_number += 1\n",
        "\n",
        "    print(\"\\n🏁 Game Over!\")\n",
        "    print(f\"Final Score - You: {player_score} | Computer: {computer_score}\")\n",
        "    if player_score > computer_score:\n",
        "        print(\"👏 Congratulations! You won the game.\")\n",
        "    elif player_score < computer_score:\n",
        "        print(\"😅 Computer wins the game. Better luck next time!\")\n",
        "    else:\n",
        "        print(\"🤝 It's a tie overall!\")\n",
        "\n",
        "if __name__ == \"__main__\":\n",
        "    main()\n"
      ]
    }
  ]
}